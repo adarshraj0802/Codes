{
 "cells": [
  {
   "cell_type": "code",
   "execution_count": 1,
   "metadata": {},
   "outputs": [
    {
     "name": "stdout",
     "output_type": "stream",
     "text": [
      "<__main__.Person object at 0x000000B3E7AD2608>\n",
      "Alec Baldwin was born in the year 1958\n"
     ]
    }
   ],
   "source": [
    "# In python, attributes are the variables defining an object state and possible actions are called as methods.\n",
    "\n",
    "class Person(object):\n",
    "    pass\n",
    "\n",
    "john_doe = Person() \n",
    "john_doe.name = \"Alec\" \n",
    "john_doe.surname = \"Baldwin\"\n",
    "john_doe.year_of_birth = 1958\n",
    "\n",
    "print(john_doe)\n",
    "print(\"%s %s was born in the year %s\" %(john_doe.name, john_doe.surname, john_doe.year_of_birth))"
   ]
  },
  {
   "cell_type": "code",
   "execution_count": 3,
   "metadata": {},
   "outputs": [
    {
     "name": "stdout",
     "output_type": "stream",
     "text": [
      "<__main__.Person object at 0x000000B3E7AD2608>\n",
      "Alec Baldwin was born in the year 1958\n"
     ]
    }
   ],
   "source": [
    "class Person(object):\n",
    "    pass\n",
    "# we are creating a variable for the class Person below. All the properties of class Person will be accessible to John_doe\n",
    "john_doe.name = \"Alec\" # name, surname and year_of_birth are the properties of class.\n",
    "john_doe = Person()  \n",
    "john_doe.surname = \"Baldwin\"\n",
    "john_doe.year_of_birth = 1958\n",
    "\n",
    "print(john_doe)\n",
    "print(\"%s %s was born in the year %s\" %(john_doe.name, john_doe.surname, john_doe.year_of_birth))"
   ]
  },
  {
   "cell_type": "code",
   "execution_count": null,
   "metadata": {},
   "outputs": [],
   "source": [
    "# the above method is not the recommended one. below is the proper way of doing.\n",
    "# any method starting with doubel underscore and ending with double underscore, that means it is a default method."
   ]
  },
  {
   "cell_type": "code",
   "execution_count": 12,
   "metadata": {},
   "outputs": [
    {
     "name": "stdout",
     "output_type": "stream",
     "text": [
      "Alec Baldwin was born in the year 1958\n",
      "Alec\n"
     ]
    }
   ],
   "source": [
    "# WE are supposed to create the class in such a way that whenever we are going to create the object, we will be able to pass\n",
    "# the data set. __init__ is initialization method. self is a pointer. the pointer points to the class\n",
    "# IMPORTANT - name1 is a variable belonging to the class Person. \n",
    "# IMPORTANT - whereas name is a variable belonging to the object or init method.\n",
    "# self is a standard and most widely used pointer. however, we can use any other name there. e.g. - xyz or adarsh etc...\n",
    "class Person:\n",
    "    def __init__(self,name, surname, year_of_birth): \n",
    "        self.name1 = name \n",
    "        self.surname1 = surname\n",
    "        self.year_of_birth1 = year_of_birth\n",
    "    def __str__(self):\n",
    "        return \"%s %s was born in the year %d\" %(self.name1,self.surname1,self.year_of_birth1)\n",
    "    \n",
    "alec = Person(\"Alec\",\"Baldwin\",1958)\n",
    "print(alec)\n",
    "print(alec.name1)"
   ]
  },
  {
   "cell_type": "code",
   "execution_count": 9,
   "metadata": {},
   "outputs": [
    {
     "data": {
      "text/plain": [
       "20"
      ]
     },
     "execution_count": 9,
     "metadata": {},
     "output_type": "execute_result"
    }
   ],
   "source": [
    "class car:\n",
    "    def __init__(self,body, engine, mileage):\n",
    "        self.body1 = body\n",
    "        self.engine1 = engine\n",
    "        self.mileage1 = mileage\n",
    "    \n",
    "    def test(abc):\n",
    "        return abc.mileage1\n",
    "\n",
    "        \n",
    "mre = car(\"sedan\",\"Petrol\",20)\n",
    "\n",
    "mre.test()"
   ]
  },
  {
   "cell_type": "code",
   "execution_count": 5,
   "metadata": {},
   "outputs": [
    {
     "name": "stdout",
     "output_type": "stream",
     "text": [
      "Alec Baldwin was born in the year 1958\n",
      "62\n"
     ]
    }
   ],
   "source": [
    "class Person:\n",
    "    def __init__(self,name,surname,year_of_birth):\n",
    "        self.name = name\n",
    "        self.surname = surname\n",
    "        self.year_of_birth = year_of_birth\n",
    "    def age(self,current_year):\n",
    "        return current_year - self.year_of_birth\n",
    "    def __str__(self):\n",
    "        return \"%s %s was born in the year %d\" %(self.name,self.surname, self.year_of_birth)\n",
    "    \n",
    "alec = Person(\"Alec\",\"Baldwin\",1958)\n",
    "print(alec)\n",
    "print(alec.age(2020))"
   ]
  },
  {
   "cell_type": "code",
   "execution_count": 8,
   "metadata": {},
   "outputs": [
    {
     "name": "stdout",
     "output_type": "stream",
     "text": [
      "Alec Baldwin was born in the year 1958\n"
     ]
    }
   ],
   "source": [
    "class NewPerson:\n",
    "    def __init__(self,name,surname,year_of_birth):\n",
    "        self.name = name\n",
    "        self.surname = surname\n",
    "        self.year_of_birth = year_of_birth\n",
    "    def age(self,current_year):\n",
    "        return current_year - self.year_of_birth\n",
    "    def __str__(self):\n",
    "        return \"%s %s was born in the year %d\" %(self.name,self.surname, self.year_of_birth)\n",
    "    \n",
    "alec = NewPerson(\"Alec\",\"Baldwin\",1958)\n",
    "print(alec)"
   ]
  },
  {
   "cell_type": "markdown",
   "metadata": {},
   "source": [
    "###  Protect your abstraction"
   ]
  },
  {
   "cell_type": "code",
   "execution_count": null,
   "metadata": {},
   "outputs": [],
   "source": [
    "# public - have full access of everything\n",
    "# protected keyword - able to access within the class, outside the class but not outside the package.\n",
    "# private keyword - just within the class. no access outside the class or package.\n",
    "\n",
    "# this is called abstraction at different levels."
   ]
  },
  {
   "cell_type": "code",
   "execution_count": null,
   "metadata": {},
   "outputs": [],
   "source": [
    "# python doesn't have keywords like the ones above mentioned. However they have the notations. "
   ]
  },
  {
   "cell_type": "code",
   "execution_count": 14,
   "metadata": {},
   "outputs": [
    {
     "name": "stdout",
     "output_type": "stream",
     "text": [
      "Adarsh Raj was born in the year 1992.\n"
     ]
    }
   ],
   "source": [
    "# Here we are using the protected keyword. \n",
    "class Person:\n",
    "    def __init__(self,name, surname, year_of_birth):\n",
    "        self._name = name\n",
    "        self._surname = surname\n",
    "        self._year_of_birth = year_of_birth\n",
    "    \n",
    "    def age(self,current_year):\n",
    "        return current_year - self._year_of_birth\n",
    "    \n",
    "    def __str__(self):\n",
    "        return \"%s %s was born in the year %d.\" \\\n",
    "                 % (self._name,self._surname, self._year_of_birth)\n",
    "    \n",
    "alec = Person(\"Adarsh\",\"Raj\",1992)\n",
    "print(alec)\n",
    "\n"
   ]
  },
  {
   "cell_type": "code",
   "execution_count": 29,
   "metadata": {},
   "outputs": [
    {
     "name": "stdout",
     "output_type": "stream",
     "text": [
      "Alec Baldwin was born in the year 1958\n",
      "dict_keys(['_Person__name', '_Person__surname', '_Person__year_of_birth'])\n"
     ]
    },
    {
     "data": {
      "text/plain": [
       "'Alec'"
      ]
     },
     "execution_count": 29,
     "metadata": {},
     "output_type": "execute_result"
    }
   ],
   "source": [
    "# here we wil be using the private keyword.\n",
    "\n",
    "class Person:\n",
    "    def __init__(self, name, surname, year_of_birth):\n",
    "        self.__name = name\n",
    "        self.__surname = surname\n",
    "        self.__year_of_birth = year_of_birth\n",
    "    def age(self,current_year):\n",
    "        return current_year - self.__year_of_birth\n",
    "\n",
    "    def __str__(self):\n",
    "        return \"%s %s was born in the year %d\" %(self.__name, self.__surname, self.__year_of_birth)\n",
    "    \n",
    "alec = Person(\"Alec\",\"Baldwin\", 1958)\n",
    "\n",
    "print(alec)\n",
    "print(alec.__dict__.keys())\n",
    "alec._Person__name"
   ]
  },
  {
   "cell_type": "markdown",
   "metadata": {},
   "source": [
    "### Inheritance"
   ]
  },
  {
   "cell_type": "code",
   "execution_count": 30,
   "metadata": {},
   "outputs": [
    {
     "name": "stdout",
     "output_type": "stream",
     "text": [
      "Charlie Brown was born in the year 2006\n",
      "<class '__main__.Student'>\n",
      "True\n",
      "True\n"
     ]
    }
   ],
   "source": [
    "# inheritance helps in reusability of the codes.\n",
    "# *args means that we are pulling all the arguments of Person in Student class.\n",
    "# **kwargs - if we have dictionary kind of variable then we should use it. else leave it. it is key-value kind of thing.\n",
    "# super(Student,self) means that we are trying to revoke the person class init method.\n",
    "#\n",
    "class Student(Person):\n",
    "    def __init__(self, student_id, *args, **kwargs):\n",
    "        super(Student, self).__init__(*args, **kwargs)\n",
    "        self.__student_id = student_id\n",
    "        \n",
    "charlie = Student(1, 'Charlie', 'Brown', 2006)\n",
    "print(charlie)\n",
    "print(type(charlie))\n",
    "print(isinstance(charlie, Person))\n",
    "print(isinstance(charlie, object))"
   ]
  },
  {
   "cell_type": "code",
   "execution_count": 41,
   "metadata": {},
   "outputs": [
    {
     "name": "stdout",
     "output_type": "stream",
     "text": [
      "Charlie Brown was born in the year 2006 with id as 1 \n"
     ]
    },
    {
     "data": {
      "text/plain": [
       "-1977"
      ]
     },
     "execution_count": 41,
     "metadata": {},
     "output_type": "execute_result"
    }
   ],
   "source": [
    "# we are overriding in the below codes. we are redefining the __str__ method without changing the names.\n",
    "class Student(Person):\n",
    "    def __init__(self, student_id, *args, **kwargs):\n",
    "        super(Student, self).__init__(*args, **kwargs)\n",
    "        self._student_id = student_id\n",
    "        \n",
    "    def __str__(self):\n",
    "        return super(Student,self).__str__() + \" with id as %d \" % self._student_id\n",
    "\n",
    "charlie = Student(1, 'Charlie', 'Brown', 2006)\n",
    "print(charlie)\n",
    "\n",
    "charlie.age(29) #calling the function from the parent class."
   ]
  }
 ],
 "metadata": {
  "kernelspec": {
   "display_name": "Python 3",
   "language": "python",
   "name": "python3"
  },
  "language_info": {
   "codemirror_mode": {
    "name": "ipython",
    "version": 3
   },
   "file_extension": ".py",
   "mimetype": "text/x-python",
   "name": "python",
   "nbconvert_exporter": "python",
   "pygments_lexer": "ipython3",
   "version": "3.7.4"
  }
 },
 "nbformat": 4,
 "nbformat_minor": 2
}
