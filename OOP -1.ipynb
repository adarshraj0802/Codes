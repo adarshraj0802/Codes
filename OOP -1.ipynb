{
 "cells": [
  {
   "cell_type": "markdown",
   "metadata": {},
   "source": [
    "## Object Oriented Programming in Python"
   ]
  },
  {
   "cell_type": "code",
   "execution_count": null,
   "metadata": {},
   "outputs": [],
   "source": [
    "#python is a way of programming that focuses on using objects and classes in order to design and build applicaitons.\n",
    "#Major pillars are polymorphism, encapsulation, inheritance, abstraction\n",
    "#"
   ]
  },
  {
   "cell_type": "code",
   "execution_count": 1,
   "metadata": {},
   "outputs": [
    {
     "name": "stdout",
     "output_type": "stream",
     "text": [
      "Unique identity\n"
     ]
    }
   ],
   "source": [
    "# A python module is a package that encapsulates reusable codes.\n",
    "#modules contain function and classes.\n",
    "\n",
    "employee ={\"EmployeeId\":\"Unique identity\"}\n",
    "print(employee['EmployeeId'])"
   ]
  },
  {
   "cell_type": "code",
   "execution_count": 2,
   "metadata": {},
   "outputs": [
    {
     "ename": "ModuleNotFoundError",
     "evalue": "No module named 'employee'",
     "output_type": "error",
     "traceback": [
      "\u001b[1;31m---------------------------------------------------------------------------\u001b[0m",
      "\u001b[1;31mModuleNotFoundError\u001b[0m                       Traceback (most recent call last)",
      "\u001b[1;32m<ipython-input-2-f1b8e89ff79f>\u001b[0m in \u001b[0;36m<module>\u001b[1;34m\u001b[0m\n\u001b[0;32m      5\u001b[0m     \u001b[0mprint\u001b[0m\u001b[1;33m(\u001b[0m\u001b[1;34m\"Unique identity\"\u001b[0m\u001b[1;33m)\u001b[0m\u001b[1;33m\u001b[0m\u001b[1;33m\u001b[0m\u001b[0m\n\u001b[0;32m      6\u001b[0m \u001b[1;33m\u001b[0m\u001b[0m\n\u001b[1;32m----> 7\u001b[1;33m \u001b[1;32mimport\u001b[0m \u001b[0memployee\u001b[0m\u001b[1;33m\u001b[0m\u001b[1;33m\u001b[0m\u001b[0m\n\u001b[0m\u001b[0;32m      8\u001b[0m \u001b[0memployee\u001b[0m\u001b[1;33m.\u001b[0m\u001b[0mEmployeeId\u001b[0m\u001b[1;33m(\u001b[0m\u001b[1;33m)\u001b[0m\u001b[1;33m\u001b[0m\u001b[1;33m\u001b[0m\u001b[0m\n",
      "\u001b[1;31mModuleNotFoundError\u001b[0m: No module named 'employee'"
     ]
    }
   ],
   "source": [
    "#A module is a python file with functions in it. We access the module in order to use that particular functions. We can call\n",
    "#the function with the help of . operator.\n",
    "\n",
    "def EmployeeId():\n",
    "    print(\"Unique identity\")\n",
    "    \n",
    "import employee\n",
    "employee.EmployeeId()"
   ]
  },
  {
   "cell_type": "code",
   "execution_count": 3,
   "metadata": {},
   "outputs": [
    {
     "data": {
      "text/plain": [
       "5"
      ]
     },
     "execution_count": 3,
     "metadata": {},
     "output_type": "execute_result"
    }
   ],
   "source": [
    "2+3"
   ]
  },
  {
   "cell_type": "code",
   "execution_count": 4,
   "metadata": {},
   "outputs": [
    {
     "ename": "AttributeError",
     "evalue": "'object' object has no attribute 'x'",
     "output_type": "error",
     "traceback": [
      "\u001b[1;31m---------------------------------------------------------------------------\u001b[0m",
      "\u001b[1;31mAttributeError\u001b[0m                            Traceback (most recent call last)",
      "\u001b[1;32m<ipython-input-4-53fa378f7be1>\u001b[0m in \u001b[0;36m<module>\u001b[1;34m\u001b[0m\n\u001b[0;32m      1\u001b[0m \u001b[0mobj\u001b[0m \u001b[1;33m=\u001b[0m \u001b[0mobject\u001b[0m\u001b[1;33m(\u001b[0m\u001b[1;33m)\u001b[0m\u001b[1;33m\u001b[0m\u001b[1;33m\u001b[0m\u001b[0m\n\u001b[1;32m----> 2\u001b[1;33m \u001b[0mobj\u001b[0m\u001b[1;33m.\u001b[0m\u001b[0mx\u001b[0m \u001b[1;33m=\u001b[0m \u001b[1;36m9\u001b[0m\u001b[1;33m\u001b[0m\u001b[1;33m\u001b[0m\u001b[0m\n\u001b[0m",
      "\u001b[1;31mAttributeError\u001b[0m: 'object' object has no attribute 'x'"
     ]
    }
   ],
   "source": [
    "obj = object()\n",
    "obj.x = 9\n"
   ]
  },
  {
   "cell_type": "code",
   "execution_count": 10,
   "metadata": {},
   "outputs": [
    {
     "data": {
      "text/plain": [
       "'Hello World!'"
      ]
     },
     "execution_count": 10,
     "metadata": {},
     "output_type": "execute_result"
    }
   ],
   "source": [
    "class EmpObject:\n",
    "    obj = EmpObject()\n",
    "    obj.x = 'Hello World!'\n",
    "    \n",
    "obj.x"
   ]
  },
  {
   "cell_type": "code",
   "execution_count": 11,
   "metadata": {},
   "outputs": [
    {
     "data": {
      "text/plain": [
       "7"
      ]
     },
     "execution_count": 11,
     "metadata": {},
     "output_type": "execute_result"
    }
   ],
   "source": [
    "3+4"
   ]
  },
  {
   "cell_type": "code",
   "execution_count": 13,
   "metadata": {},
   "outputs": [
    {
     "data": {
      "text/plain": [
       "{'alpha', 'beta', 'delta', 'gamma', 'theta'}"
      ]
     },
     "execution_count": 13,
     "metadata": {},
     "output_type": "execute_result"
    }
   ],
   "source": [
    "A = {'alpha','beta','gamma','delta'}\n",
    "B = {'one','two','three','alpha','gamma'}\n",
    "\n",
    "A.add('theta')\n",
    "A"
   ]
  },
  {
   "cell_type": "code",
   "execution_count": 14,
   "metadata": {},
   "outputs": [
    {
     "data": {
      "text/plain": [
       "{'alpha', 'beta', 'delta', 'gamma', 'one', 'theta', 'three', 'two'}"
      ]
     },
     "execution_count": 14,
     "metadata": {},
     "output_type": "execute_result"
    }
   ],
   "source": [
    "A.union(B)"
   ]
  },
  {
   "cell_type": "code",
   "execution_count": 15,
   "metadata": {},
   "outputs": [
    {
     "data": {
      "text/plain": [
       "{'alpha', 'beta', 'delta', 'gamma', 'theta'}"
      ]
     },
     "execution_count": 15,
     "metadata": {},
     "output_type": "execute_result"
    }
   ],
   "source": [
    "A.difference(B)"
   ]
  },
  {
   "cell_type": "code",
   "execution_count": 16,
   "metadata": {},
   "outputs": [
    {
     "ename": "NameError",
     "evalue": "name 'Object' is not defined",
     "output_type": "error",
     "traceback": [
      "\u001b[1;31m---------------------------------------------------------------------------\u001b[0m",
      "\u001b[1;31mNameError\u001b[0m                                 Traceback (most recent call last)",
      "\u001b[1;32m<ipython-input-16-970c01402306>\u001b[0m in \u001b[0;36m<module>\u001b[1;34m\u001b[0m\n\u001b[1;32m----> 1\u001b[1;33m \u001b[1;32mclass\u001b[0m \u001b[0mMyClass\u001b[0m\u001b[1;33m(\u001b[0m\u001b[0mObject\u001b[0m\u001b[1;33m)\u001b[0m\u001b[1;33m:\u001b[0m\u001b[1;33m\u001b[0m\u001b[1;33m\u001b[0m\u001b[0m\n\u001b[0m\u001b[0;32m      2\u001b[0m     \u001b[1;32mpass\u001b[0m\u001b[1;33m\u001b[0m\u001b[1;33m\u001b[0m\u001b[0m\n\u001b[0;32m      3\u001b[0m \u001b[0mthis_obj\u001b[0m \u001b[1;33m=\u001b[0m \u001b[0mMyClass\u001b[0m\u001b[1;33m(\u001b[0m\u001b[1;33m)\u001b[0m\u001b[1;33m\u001b[0m\u001b[1;33m\u001b[0m\u001b[0m\n\u001b[0;32m      4\u001b[0m \u001b[0mprint\u001b[0m\u001b[1;33m(\u001b[0m\u001b[0mthis_obj\u001b[0m\u001b[1;33m)\u001b[0m\u001b[1;33m\u001b[0m\u001b[1;33m\u001b[0m\u001b[0m\n",
      "\u001b[1;31mNameError\u001b[0m: name 'Object' is not defined"
     ]
    }
   ],
   "source": [
    "class MyClass(Object):\n",
    "    pass\n",
    "this_obj = MyClass()\n",
    "print(this_obj)"
   ]
  },
  {
   "cell_type": "code",
   "execution_count": 18,
   "metadata": {},
   "outputs": [
    {
     "name": "stdout",
     "output_type": "stream",
     "text": [
      "9\n"
     ]
    }
   ],
   "source": [
    "class MyClass(object):\n",
    "    var = 9\n",
    "this_obj = MyClass()\n",
    "\n",
    "that_obj = MyClass()\n",
    "\n",
    "print(that_obj.var)"
   ]
  },
  {
   "cell_type": "code",
   "execution_count": 20,
   "metadata": {},
   "outputs": [
    {
     "name": "stdout",
     "output_type": "stream",
     "text": [
      "9\n",
      "Hello World!\n",
      "None\n"
     ]
    }
   ],
   "source": [
    "class MyClass(object):\n",
    "    var = 9\n",
    "    \n",
    "    def firstM(self):\n",
    "        print(\"Hello World!\")\n",
    "\n",
    "obj = MyClass()\n",
    "print(obj.var)\n",
    "print(obj.firstM())"
   ]
  },
  {
   "cell_type": "code",
   "execution_count": 23,
   "metadata": {},
   "outputs": [
    {
     "name": "stdout",
     "output_type": "stream",
     "text": [
      "45\n"
     ]
    }
   ],
   "source": [
    "class MyAge(object):\n",
    "    def setAge(self, num):\n",
    "        self.age = num\n",
    "        \n",
    "    def getAge(self):\n",
    "        return  self.age\n",
    "    \n",
    "zack = MyAge()\n",
    "zack.setAge(45)\n",
    "print(zack.getAge())"
   ]
  },
  {
   "cell_type": "code",
   "execution_count": 25,
   "metadata": {},
   "outputs": [
    {
     "data": {
      "text/plain": [
       "85"
      ]
     },
     "execution_count": 25,
     "metadata": {},
     "output_type": "execute_result"
    }
   ],
   "source": [
    "class MyClass(object):\n",
    "    def setMarks(self,num):\n",
    "        self.marks = num\n",
    "    def getMarks(self):\n",
    "        return self.marks\n",
    "\n",
    "zack = MyClass()\n",
    "zack.setMarks(85)\n",
    "zack.getMarks()"
   ]
  },
  {
   "cell_type": "code",
   "execution_count": 26,
   "metadata": {},
   "outputs": [
    {
     "name": "stdout",
     "output_type": "stream",
     "text": [
      "4.5 3\n"
     ]
    }
   ],
   "source": [
    "class MyClass(object):\n",
    "    def __init__(self, aaa,bbb):\n",
    "        self.a = aaa\n",
    "        self.b = bbb\n",
    "x = MyClass(4.5,3)\n",
    "print(x.a,x.b)\n"
   ]
  },
  {
   "cell_type": "code",
   "execution_count": null,
   "metadata": {},
   "outputs": [],
   "source": [
    "# Encapsulation is one of the main property of the OOP. it helps to hide the complexities of the code and show the \n",
    "# easy to understand code\n",
    "# the attributes defined in the class is called class attribute and the attribute defined in the fucntion attribute is called \n",
    "# instance attribute\n",
    "#The attribute is also called as variable.\n"
   ]
  },
  {
   "cell_type": "code",
   "execution_count": 32,
   "metadata": {},
   "outputs": [
    {
     "name": "stdout",
     "output_type": "stream",
     "text": [
      "21\n",
      "2354\n"
     ]
    }
   ],
   "source": [
    "class MyClass(object):\n",
    "    Age = 21\n",
    "    roll = 2354\n",
    "\n",
    "\n",
    "print(MyClass.Age)\n",
    "print(MyClass.roll)"
   ]
  },
  {
   "cell_type": "code",
   "execution_count": 33,
   "metadata": {},
   "outputs": [
    {
     "data": {
      "text/plain": [
       "'My Class'"
      ]
     },
     "execution_count": 33,
     "metadata": {},
     "output_type": "execute_result"
    }
   ],
   "source": [
    "class MyObject(object):\n",
    "    classy = 'My Class'\n",
    "    \n",
    "dd = MyObject()\n",
    "dd.classy"
   ]
  },
  {
   "cell_type": "code",
   "execution_count": 37,
   "metadata": {},
   "outputs": [
    {
     "name": "stdout",
     "output_type": "stream",
     "text": [
      "My Roll\n"
     ]
    }
   ],
   "source": [
    "dd.classy = 'My Roll'\n",
    "print(dd.classy)"
   ]
  },
  {
   "cell_type": "code",
   "execution_count": 38,
   "metadata": {},
   "outputs": [
    {
     "name": "stdout",
     "output_type": "stream",
     "text": [
      "My Class\n"
     ]
    }
   ],
   "source": [
    "del dd.classy\n",
    "\n",
    "print(dd.classy)"
   ]
  },
  {
   "cell_type": "code",
   "execution_count": null,
   "metadata": {},
   "outputs": [],
   "source": [
    "# in the above code, we tried to override the value. Once it was overridden, we deleted the value \n",
    "#and the variable retained its old value"
   ]
  },
  {
   "cell_type": "code",
   "execution_count": 43,
   "metadata": {},
   "outputs": [
    {
     "ename": "IndentationError",
     "evalue": "unexpected indent (<ipython-input-43-f73eab301a31>, line 4)",
     "output_type": "error",
     "traceback": [
      "\u001b[1;36m  File \u001b[1;32m\"<ipython-input-43-f73eab301a31>\"\u001b[1;36m, line \u001b[1;32m4\u001b[0m\n\u001b[1;33m    def __init__(self, val):\u001b[0m\n\u001b[1;37m    ^\u001b[0m\n\u001b[1;31mIndentationError\u001b[0m\u001b[1;31m:\u001b[0m unexpected indent\n"
     ]
    }
   ],
   "source": [
    "class InstanceCounter(object):\n",
    "     count = 0\n",
    "instances\n",
    "       def __init__(self, val):\n",
    "        self.val = val\n",
    "        InstanceCounter.count += 1\n",
    "#Increment the value of class attribute, accessible through class name.\n",
    "#in the above line, clas('InstanceCounter') act as an object\n",
    "\n",
    "       def set_val(self, newval):\n",
    "        self.val = newval\n",
    "    \n",
    "       def get_val(self):\n",
    "        return self.val\n",
    "    \n",
    "       def get_count(self):\n",
    "        return InstanceCounter.count\n",
    "    \n",
    "a = InstanceCounter(9)\n",
    "\n",
    "for obj in (a):\n",
    "    print(obj.get_val())"
   ]
  },
  {
   "cell_type": "code",
   "execution_count": 45,
   "metadata": {},
   "outputs": [
    {
     "data": {
      "text/plain": [
       "5"
      ]
     },
     "execution_count": 45,
     "metadata": {},
     "output_type": "execute_result"
    }
   ],
   "source": [
    "set1 = {1,2,3,45,5}\n",
    "len(set1)"
   ]
  },
  {
   "cell_type": "code",
   "execution_count": 47,
   "metadata": {},
   "outputs": [
    {
     "data": {
      "text/plain": [
       "5"
      ]
     },
     "execution_count": 47,
     "metadata": {},
     "output_type": "execute_result"
    }
   ],
   "source": [
    "set1.__len__()"
   ]
  },
  {
   "cell_type": "code",
   "execution_count": null,
   "metadata": {},
   "outputs": [],
   "source": [
    "#Functions are objects too.\n",
    "\n",
    "# A callable object is an object that can accept some arguments and will possible return an object. A function is the simplest\n",
    "# callable object in Python, but there are others too like classes or certain class instances.\n",
    "# An object can contain methods or functions but a object is necessarily not a function.\n",
    "# Every function in a python is an object."
   ]
  },
  {
   "cell_type": "code",
   "execution_count": null,
   "metadata": {},
   "outputs": [],
   "source": [
    "#calling one function with the help of another function"
   ]
  },
  {
   "cell_type": "code",
   "execution_count": 53,
   "metadata": {
    "scrolled": true
   },
   "outputs": [
    {
     "name": "stdout",
     "output_type": "stream",
     "text": [
      "the description: A silly function\n",
      "The name:  my_func\n",
      "The class: <class 'function'>\n",
      "Now I'll call the function passed in\n",
      "the description: A second silly function\n",
      "The name:  second_func\n",
      "The class: <class 'function'>\n",
      "Now I'll call the function passed in\n"
     ]
    }
   ],
   "source": [
    "def my_func(object):\n",
    "    print(\"My function was called\")\n",
    "\n",
    "my_func.description = \"A silly function\"\n",
    "\n",
    "def second_func(object):\n",
    "    print(\"A second function was called\")\n",
    "\n",
    "second_func.description = \"A second silly function\"\n",
    "\n",
    "def another_func(func):\n",
    "    print(\"the description:\", end =\" \")\n",
    "    print(func.description)\n",
    "    print(\"The name: \", end=\" \")\n",
    "    print(func.__name__)\n",
    "    print(\"The class:\", end= \" \")\n",
    "    print(func.__class__)\n",
    "    print(\"Now I'll call the function passed in\")\n",
    "    \n",
    "another_func(my_func)\n",
    "another_func(second_func)"
   ]
  },
  {
   "cell_type": "code",
   "execution_count": 54,
   "metadata": {},
   "outputs": [
    {
     "name": "stdout",
     "output_type": "stream",
     "text": [
      "the name of function is: Hello. new_func\n"
     ]
    }
   ],
   "source": [
    "def new_func(object):\n",
    "    print(\"a practice function\")\n",
    "new_func.description = \"Hello. new_func\"\n",
    "\n",
    "def god_func(func):\n",
    "    print(\"the name of function is:\", end = \" \")\n",
    "    print(func.description)\n",
    "    \n",
    "god_func(new_func)"
   ]
  },
  {
   "cell_type": "code",
   "execution_count": null,
   "metadata": {},
   "outputs": [],
   "source": []
  }
 ],
 "metadata": {
  "kernelspec": {
   "display_name": "Python 3",
   "language": "python",
   "name": "python3"
  },
  "language_info": {
   "codemirror_mode": {
    "name": "ipython",
    "version": 3
   },
   "file_extension": ".py",
   "mimetype": "text/x-python",
   "name": "python",
   "nbconvert_exporter": "python",
   "pygments_lexer": "ipython3",
   "version": "3.7.4"
  }
 },
 "nbformat": 4,
 "nbformat_minor": 2
}
