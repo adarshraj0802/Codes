{
 "cells": [
  {
   "cell_type": "markdown",
   "metadata": {},
   "source": [
    "## Object Oriented Programming in Python"
   ]
  },
  {
   "cell_type": "markdown",
   "metadata": {},
   "source": [
    "### Inheritance and Polymorphism "
   ]
  },
  {
   "cell_type": "code",
   "execution_count": null,
   "metadata": {},
   "outputs": [],
   "source": [
    "# one of the major advantages of OOP is reuse. and inheritance is one such mechanism. \n",
    "# The data fields and methods which are not private are only accessible by the child classes. \n"
   ]
  },
  {
   "cell_type": "code",
   "execution_count": 1,
   "metadata": {},
   "outputs": [
    {
     "name": "stdout",
     "output_type": "stream",
     "text": [
      "Get date from the date class  2020-04-25\n",
      "Get time from the time class  20:12:26\n",
      "Get time from the date class  2020-04-25\n"
     ]
    }
   ],
   "source": [
    "# Object is a built-in class provided by Python.\n",
    "class Date(object):    #Inherits from the object class\n",
    "    def get_date(self):\n",
    "        return '2020-04-25'\n",
    "\n",
    "class Time(Date):     # Inherits from the Date class\n",
    "    def get_time(self):\n",
    "        return '20:12:26'\n",
    "\n",
    "dt = Date()\n",
    "\n",
    "print(\"Get date from the date class \",dt.get_date())\n",
    "tm = Time()\n",
    "print(\"Get time from the time class \",tm.get_time())\n",
    "print(\"Get time from the date class \",tm.get_date())"
   ]
  },
  {
   "cell_type": "code",
   "execution_count": 3,
   "metadata": {},
   "outputs": [
    {
     "name": "stdout",
     "output_type": "stream",
     "text": [
      "Ranger goes after the bone. \n",
      "Ranger is eating socks. \n",
      "Spotty is eating biscuit. \n",
      "Spotty shreds the string!\n"
     ]
    }
   ],
   "source": [
    "class Animal(object):\n",
    "    def __init__(self,name):\n",
    "        self.name = name\n",
    "    def eat(self,food):\n",
    "        print(\"%s is eating %s. \" %(self.name,food))\n",
    "        \n",
    "class Dog(Animal):\n",
    "    def fetch(self, thing):\n",
    "        print(\"%s goes after the %s. \" %(self.name,thing))\n",
    "        \n",
    "class Cat(Animal):\n",
    "    def swatstring(self):\n",
    "        print(\"%s shreds the string!\" %(self.name))\n",
    "\n",
    "d = Dog('Ranger')\n",
    "d.fetch('bone')\n",
    "d.eat('socks')\n",
    "\n",
    "c = Cat('Spotty')\n",
    "c.eat('biscuit')\n",
    "c.swatstring()\n"
   ]
  },
  {
   "cell_type": "markdown",
   "metadata": {},
   "source": [
    "### Polymorphism"
   ]
  },
  {
   "cell_type": "code",
   "execution_count": null,
   "metadata": {},
   "outputs": [],
   "source": [
    "# polymorphism is an important feature of class definition in python that is utilised when you have commonly named \n",
    "# methods across classes or subclasses. This permits functions to use entities of different types at different times.\n",
    "# polymorphism can be carried out through inheritance, with subclasses making use of base class methods or overriding them."
   ]
  },
  {
   "cell_type": "code",
   "execution_count": 6,
   "metadata": {},
   "outputs": [
    {
     "name": "stdout",
     "output_type": "stream",
     "text": [
      "Rover wags tail \n",
      "spotty purrs. \n"
     ]
    }
   ],
   "source": [
    "class Animal(object):\n",
    "    def __init__(self,name):\n",
    "        self.name = name\n",
    "    def eat(self,food):\n",
    "        print(\"%s eats %s. \" %(self.name, food))\n",
    "\n",
    "class Dog(Animal):\n",
    "    def fetch(self, thing):\n",
    "        print(\"%s goes after the %s. \" %(self.name, thing))\n",
    "    def show_affection(self):         # same mehtod is called in Cat clas.\n",
    "        print(\"%s wags tail \" %(self.name))\n",
    "\n",
    "class Cat(Animal):\n",
    "    def swatstring(self):\n",
    "        print(\"%s shreds the string\" %(self.name))\n",
    "    def show_affection(self):        #same method is called in Dog class\n",
    "        print(\"%s purrs. \" %(self.name))\n",
    "    \n",
    "for a in (Dog('Rover'), Cat('spotty')):\n",
    "    a.show_affection()"
   ]
  },
  {
   "cell_type": "code",
   "execution_count": 8,
   "metadata": {},
   "outputs": [
    {
     "name": "stdout",
     "output_type": "stream",
     "text": [
      "Rover goes after the bone. \n",
      "Rover wags tail \n"
     ]
    }
   ],
   "source": [
    "d = Dog('Rover')\n",
    "d.fetch('bone')\n",
    "d.show_affection()"
   ]
  },
  {
   "cell_type": "code",
   "execution_count": 9,
   "metadata": {},
   "outputs": [
    {
     "data": {
      "text/plain": [
       "5"
      ]
     },
     "execution_count": 9,
     "metadata": {},
     "output_type": "execute_result"
    }
   ],
   "source": [
    "len('hello')"
   ]
  },
  {
   "cell_type": "code",
   "execution_count": 12,
   "metadata": {},
   "outputs": [
    {
     "data": {
      "text/plain": [
       "4"
      ]
     },
     "execution_count": 12,
     "metadata": {},
     "output_type": "execute_result"
    }
   ],
   "source": [
    "len([1,2,3,4])"
   ]
  },
  {
   "cell_type": "markdown",
   "metadata": {},
   "source": [
    "### Overriding"
   ]
  },
  {
   "cell_type": "code",
   "execution_count": 22,
   "metadata": {},
   "outputs": [
    {
     "name": "stdout",
     "output_type": "stream",
     "text": [
      "Alpha\n",
      "Dobberman\n"
     ]
    }
   ],
   "source": [
    "import random\n",
    "\n",
    "class Animal(object):\n",
    "    def __init__(self,name):\n",
    "        self.name = name\n",
    "\n",
    "class Dog(Animal):\n",
    "    def __init__(self,name):\n",
    "        super(Dog,self).__init__(name)   #super is a built-in function and it is designed to relate a class to its parent class.\n",
    "        self.breed = random.choice(['Dobberman','Giant mastiff','chihuahua'])\n",
    "        \n",
    "    def fetch(self,thing):\n",
    "        print('%s goes after the %s' %(self.name,thing))\n",
    "\n",
    "d = Dog('Alpha')\n",
    "print(d.name)\n",
    "print(d.breed)"
   ]
  },
  {
   "cell_type": "code",
   "execution_count": null,
   "metadata": {},
   "outputs": [],
   "source": [
    "# In the above case, we are saying that get the super class of dog and pass the dog instance to whatever method \n",
    "# we say here the constructor __init__ . So in other words, we are calling parent class Animal __init__ with the dog object.\n",
    "# We may ask why we won't just say Animal __init__ with the dog instance, we could do this but if the name of animal class\n",
    "# were to change, sometime in the future. "
   ]
  },
  {
   "cell_type": "markdown",
   "metadata": {},
   "source": [
    "## python multiple inheritance syntax"
   ]
  },
  {
   "cell_type": "code",
   "execution_count": null,
   "metadata": {},
   "outputs": [],
   "source": [
    "# To make a class inherit from multiple parents classes, we write the names of the classes inside parenthesis to the \n",
    "# derived classes while defining it."
   ]
  },
  {
   "cell_type": "code",
   "execution_count": 24,
   "metadata": {},
   "outputs": [
    {
     "data": {
      "text/plain": [
       "True"
      ]
     },
     "execution_count": 24,
     "metadata": {},
     "output_type": "execute_result"
    }
   ],
   "source": [
    "class Mother:\n",
    "    pass\n",
    "\n",
    "class Father:\n",
    "    pass\n",
    "\n",
    "class Child(Mother, Father):\n",
    "    pass\n",
    "\n",
    "issubclass(Child,Mother) and issubclass(Child, Father)"
   ]
  },
  {
   "cell_type": "code",
   "execution_count": 25,
   "metadata": {},
   "outputs": [
    {
     "name": "stdout",
     "output_type": "stream",
     "text": [
      "do this in A\n",
      "[<class '__main__.D'>, <class '__main__.B'>, <class '__main__.A'>, <class '__main__.C'>, <class 'object'>]\n"
     ]
    }
   ],
   "source": [
    "class A(object):\n",
    "    def dothis(self):\n",
    "        print(\"do this in A\")\n",
    "class B(A):\n",
    "    pass\n",
    "\n",
    "class C(object):\n",
    "    def dothis(self):\n",
    "        print(\"do this in C\")\n",
    "        \n",
    "class D(B,C):\n",
    "    pass\n",
    "\n",
    "d = D()\n",
    "d.dothis()\n",
    "\n",
    "print(D.mro())\n",
    "    "
   ]
  },
  {
   "cell_type": "markdown",
   "metadata": {},
   "source": [
    "## Conclusion\n",
    "### any class can inherit from multiple classes\n",
    "### python normally uses \"depth-first\" order when searching inheriting classes.\n",
    "### but when two classes inherits from the same class, then python ignores the first appearance of the class from mro"
   ]
  }
 ],
 "metadata": {
  "kernelspec": {
   "display_name": "Python 3",
   "language": "python",
   "name": "python3"
  },
  "language_info": {
   "codemirror_mode": {
    "name": "ipython",
    "version": 3
   },
   "file_extension": ".py",
   "mimetype": "text/x-python",
   "name": "python",
   "nbconvert_exporter": "python",
   "pygments_lexer": "ipython3",
   "version": "3.7.4"
  }
 },
 "nbformat": 4,
 "nbformat_minor": 2
}
