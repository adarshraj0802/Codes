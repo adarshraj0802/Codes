{
 "cells": [
  {
   "cell_type": "code",
   "execution_count": 3,
   "metadata": {},
   "outputs": [
    {
     "data": {
      "text/plain": [
       "'123458'"
      ]
     },
     "execution_count": 3,
     "metadata": {},
     "output_type": "execute_result"
    }
   ],
   "source": [
    "#Question 21\n",
    "\n",
    "def concatenate(list):\n",
    "    result = ''\n",
    "    for element in list:\n",
    "        result = result + str(element)\n",
    "    return result\n",
    "\n",
    "concatenate([1,2,3,4,58])"
   ]
  },
  {
   "cell_type": "code",
   "execution_count": 4,
   "metadata": {},
   "outputs": [
    {
     "name": "stdout",
     "output_type": "stream",
     "text": [
      "{'Black', 'White'}\n"
     ]
    }
   ],
   "source": [
    "#Question 22\n",
    "\n",
    "color_list_1 = set([\"White\", \"Black\", \"Red\"])\n",
    "color_list_2 = set([\"Red\", \"Green\"])\n",
    "\n",
    "print(color_list_1.difference(color_list_2))"
   ]
  },
  {
   "cell_type": "code",
   "execution_count": 5,
   "metadata": {},
   "outputs": [
    {
     "data": {
      "text/plain": [
       "6.0"
      ]
     },
     "execution_count": 5,
     "metadata": {},
     "output_type": "execute_result"
    }
   ],
   "source": [
    "#Question 23\n",
    "\n",
    "def sides(b,h):\n",
    "    area = (0.5)*b*h\n",
    "    \n",
    "    return area\n",
    "\n",
    "sides(3,4)\n",
    "    "
   ]
  },
  {
   "cell_type": "code",
   "execution_count": 8,
   "metadata": {},
   "outputs": [
    {
     "data": {
      "text/plain": [
       "2"
      ]
     },
     "execution_count": 8,
     "metadata": {},
     "output_type": "execute_result"
    }
   ],
   "source": [
    "#Question 24\n",
    "\n",
    "def hcf(x,y):\n",
    "    gcd = 1\n",
    "    \n",
    "    if x == y:\n",
    "        return y\n",
    "    \n",
    "    for i in range(int(y/2),0,-1):\n",
    "        if y%i == 0 and x%i==0:\n",
    "            gcd = i\n",
    "            break\n",
    "    return gcd\n",
    "\n",
    "hcf(2,8)   "
   ]
  },
  {
   "cell_type": "code",
   "execution_count": 15,
   "metadata": {},
   "outputs": [
    {
     "data": {
      "text/plain": [
       "60.0"
      ]
     },
     "execution_count": 15,
     "metadata": {},
     "output_type": "execute_result"
    }
   ],
   "source": [
    "#Question 25\n",
    "\n",
    "def l_c_m(x,y):\n",
    "    \n",
    "    lcm = x*y\n",
    "    gcd = 1\n",
    "    \n",
    "    if x == y:\n",
    "        return y\n",
    "    \n",
    "    for i in range(int(y/2),0,-1):\n",
    "        if y%i == 0 and x%i==0:\n",
    "            gcd = i\n",
    "            break\n",
    "       \n",
    "    a= x/gcd\n",
    "    b =y/gcd\n",
    "    lcm = a*b*gcd\n",
    "    \n",
    "    return lcm\n",
    "\n",
    "l_c_m(20,30)\n",
    "    "
   ]
  },
  {
   "cell_type": "code",
   "execution_count": 17,
   "metadata": {},
   "outputs": [
    {
     "data": {
      "text/plain": [
       "0"
      ]
     },
     "execution_count": 17,
     "metadata": {},
     "output_type": "execute_result"
    }
   ],
   "source": [
    "#Question 26\n",
    "\n",
    "def sum(a,b,c):\n",
    "    sum = 0\n",
    "    if a==b or b==c or c==a:\n",
    "        return sum\n",
    "    else:\n",
    "        sum = sum+a+b+c\n",
    "        return sum\n",
    "    \n",
    "sum(2,1,2)    "
   ]
  },
  {
   "cell_type": "code",
   "execution_count": 24,
   "metadata": {},
   "outputs": [
    {
     "data": {
      "text/plain": [
       "6"
      ]
     },
     "execution_count": 24,
     "metadata": {},
     "output_type": "execute_result"
    }
   ],
   "source": [
    "#Question 27 - Add two objects if both objects are an integer type\n",
    "\n",
    "\n",
    "\n",
    "def sum(a,b):\n",
    "    \n",
    "    add = 0\n",
    "    \n",
    "    if not(isinstance(a,int) and isinstance(b,int)):\n",
    "          return (\"please enter integers only\")\n",
    "    else:\n",
    "        return a+b\n",
    "        \n",
    "sum(4,2)\n",
    "    \n",
    "    "
   ]
  },
  {
   "cell_type": "code",
   "execution_count": 27,
   "metadata": {},
   "outputs": [
    {
     "name": "stdout",
     "output_type": "stream",
     "text": [
      "Name adarsh\n",
      "age 28\n",
      "address bangalore\n"
     ]
    }
   ],
   "source": [
    "#Question 28 - Display your details like name, age, address in three different lines\n",
    "\n",
    "def details(name,age,address):\n",
    "    print(\"Name\",name)\n",
    "    print(\"age\",age)\n",
    "    print(\"address\",address)\n",
    "    \n",
    "details('adarsh',28,'bangalore')"
   ]
  },
  {
   "cell_type": "code",
   "execution_count": 28,
   "metadata": {},
   "outputs": [
    {
     "name": "stdout",
     "output_type": "stream",
     "text": [
      "234.22\n",
      "234\n"
     ]
    }
   ],
   "source": [
    "# Question 29\n",
    "\n",
    "n = \"234.22\"\n",
    "n1 = float(n)\n",
    "n2 = int(n1)\n",
    "\n",
    "print(n1)\n",
    "print(n2)"
   ]
  },
  {
   "cell_type": "code",
   "execution_count": 49,
   "metadata": {},
   "outputs": [
    {
     "ename": "TypeError",
     "evalue": "'list' object is not callable",
     "output_type": "error",
     "traceback": [
      "\u001b[1;31m---------------------------------------------------------------------------\u001b[0m",
      "\u001b[1;31mTypeError\u001b[0m                                 Traceback (most recent call last)",
      "\u001b[1;32m<ipython-input-49-337524dd77c6>\u001b[0m in \u001b[0;36m<module>\u001b[1;34m\u001b[0m\n\u001b[0;32m      9\u001b[0m     \u001b[1;32mreturn\u001b[0m \u001b[0msum\u001b[0m\u001b[1;33m\u001b[0m\u001b[1;33m\u001b[0m\u001b[0m\n\u001b[0;32m     10\u001b[0m \u001b[1;33m\u001b[0m\u001b[0m\n\u001b[1;32m---> 11\u001b[1;33m \u001b[0msum\u001b[0m\u001b[1;33m(\u001b[0m\u001b[1;36m123434\u001b[0m\u001b[1;33m)\u001b[0m\u001b[1;33m\u001b[0m\u001b[1;33m\u001b[0m\u001b[0m\n\u001b[0m",
      "\u001b[1;32m<ipython-input-49-337524dd77c6>\u001b[0m in \u001b[0;36msum\u001b[1;34m(num)\u001b[0m\n\u001b[0;32m      2\u001b[0m \u001b[1;33m\u001b[0m\u001b[0m\n\u001b[0;32m      3\u001b[0m \u001b[1;32mdef\u001b[0m \u001b[0msum\u001b[0m\u001b[1;33m(\u001b[0m\u001b[0mnum\u001b[0m\u001b[1;33m)\u001b[0m\u001b[1;33m:\u001b[0m\u001b[1;33m\u001b[0m\u001b[1;33m\u001b[0m\u001b[0m\n\u001b[1;32m----> 4\u001b[1;33m     \u001b[0mlist1\u001b[0m \u001b[1;33m=\u001b[0m \u001b[0mlist\u001b[0m\u001b[1;33m(\u001b[0m\u001b[0mstr\u001b[0m\u001b[1;33m(\u001b[0m\u001b[0mnum\u001b[0m\u001b[1;33m)\u001b[0m\u001b[1;33m)\u001b[0m\u001b[1;33m\u001b[0m\u001b[1;33m\u001b[0m\u001b[0m\n\u001b[0m\u001b[0;32m      5\u001b[0m     \u001b[0msum\u001b[0m \u001b[1;33m=\u001b[0m\u001b[1;36m0\u001b[0m\u001b[1;33m\u001b[0m\u001b[1;33m\u001b[0m\u001b[0m\n\u001b[0;32m      6\u001b[0m     \u001b[1;32mfor\u001b[0m \u001b[0mi\u001b[0m \u001b[1;32min\u001b[0m \u001b[0mrange\u001b[0m\u001b[1;33m(\u001b[0m\u001b[0mlen\u001b[0m\u001b[1;33m(\u001b[0m\u001b[0mlist1\u001b[0m\u001b[1;33m)\u001b[0m\u001b[1;33m)\u001b[0m\u001b[1;33m:\u001b[0m\u001b[1;33m\u001b[0m\u001b[1;33m\u001b[0m\u001b[0m\n",
      "\u001b[1;31mTypeError\u001b[0m: 'list' object is not callable"
     ]
    }
   ],
   "source": [
    "#Question 30 - Calculate the sum of the digits in an integer\n",
    "\n",
    "def sum(num):\n",
    "    list1 = list(str(num))\n",
    "    sum =0\n",
    "    for i in range(len(list1)):\n",
    "        sum = sum + list1[i]\n",
    "        \n",
    "    return sum\n",
    "\n",
    "sum(123434)\n"
   ]
  },
  {
   "cell_type": "code",
   "execution_count": 40,
   "metadata": {},
   "outputs": [
    {
     "data": {
      "text/plain": [
       "'avc-cgasd'"
      ]
     },
     "execution_count": 40,
     "metadata": {},
     "output_type": "execute_result"
    }
   ],
   "source": [
    "#Question 31\n",
    "\n",
    "list = [\"avc\",\"cgasd\"]\n",
    "\n",
    "'-'.join(list)"
   ]
  },
  {
   "cell_type": "code",
   "execution_count": 48,
   "metadata": {},
   "outputs": [
    {
     "data": {
      "text/plain": [
       "10"
      ]
     },
     "execution_count": 48,
     "metadata": {},
     "output_type": "execute_result"
    }
   ],
   "source": [
    "#Question 32\n",
    "\n",
    "\n",
    "\n",
    "def sum1(list):\n",
    "    sum = 0\n",
    "    for i in range(len(list)):\n",
    "        sum = sum + list[i]\n",
    "    return sum\n",
    "\n",
    "sum1([1,2,3,4])\n"
   ]
  },
  {
   "cell_type": "code",
   "execution_count": 57,
   "metadata": {},
   "outputs": [
    {
     "name": "stdout",
     "output_type": "stream",
     "text": [
      "False\n"
     ]
    }
   ],
   "source": [
    "#Question 33 - Test whether all numbers of a list is greater than a certain number\n",
    "\n",
    "num = [2,3,4,5]\n",
    "\n",
    "print(all(x>3 for x in num))\n",
    "        \n",
    "    "
   ]
  },
  {
   "cell_type": "code",
   "execution_count": 59,
   "metadata": {},
   "outputs": [
    {
     "data": {
      "text/plain": [
       "3"
      ]
     },
     "execution_count": 59,
     "metadata": {},
     "output_type": "execute_result"
    }
   ],
   "source": [
    "#Question 34 - Count the number of occurrence of a specific character in a string\n",
    "\n",
    "str = \"aer aetfgthgkn;lj4 ioeterlgwrj ae;oitlnbs;tjyqp45\"\n",
    "\n",
    "str.count(\"j\")"
   ]
  },
  {
   "cell_type": "code",
   "execution_count": 60,
   "metadata": {},
   "outputs": [
    {
     "name": "stdout",
     "output_type": "stream",
     "text": [
      "30 + 20 = 50\n"
     ]
    }
   ],
   "source": [
    "#Question 35 - Given variables x=30 and y=20, write a Python program to print t \"30+20=50\"\n",
    "\n",
    "x = 30\n",
    "y = 20\n",
    "\n",
    "print(x,\"+\",y,\"=\",x+y)"
   ]
  },
  {
   "cell_type": "code",
   "execution_count": 64,
   "metadata": {},
   "outputs": [
    {
     "name": "stdout",
     "output_type": "stream",
     "text": [
      "input variable1\n",
      "First day of the month\n"
     ]
    }
   ],
   "source": [
    "#Question 36\n",
    "\n",
    "var = input(\"input variable\")\n",
    "\n",
    "if var == \"1\":\n",
    "    print(\"First day of the month\")\n",
    "else:\n",
    "    print(\"none\")"
   ]
  },
  {
   "cell_type": "code",
   "execution_count": 70,
   "metadata": {},
   "outputs": [
    {
     "name": "stdout",
     "output_type": "stream",
     "text": [
      "Original Color:  ['Red', 'Black', 'Green', 'White', 'Orange']\n",
      "After removing the first color:  ['Black', 'Green', 'White', 'Orange']\n",
      "\n"
     ]
    }
   ],
   "source": [
    "#Question 37\n",
    "\n",
    "color = [\"Red\", \"Black\", \"Green\", \"White\", \"Orange\"]\n",
    "print(\"Original Color: \",color)\n",
    "del color[0]\n",
    "print(\"After removing the first color: \",color)\n",
    "print()"
   ]
  },
  {
   "cell_type": "code",
   "execution_count": 71,
   "metadata": {},
   "outputs": [
    {
     "name": "stdout",
     "output_type": "stream",
     "text": [
      "Input a number: qdsx\n",
      "\n",
      "This is not a number. Try again...\n",
      "\n",
      "Input a number: 150\n"
     ]
    }
   ],
   "source": [
    "#Question 38 - Input a number, if it is not a number generate an error message\n",
    "\n",
    "while True:\n",
    "    try:\n",
    "        a = int(input(\"Input a number: \"))\n",
    "        break\n",
    "    except ValueError:\n",
    "        print(\"\\nThis is not a number. Try again...\")\n",
    "        print()\n",
    "\n"
   ]
  }
 ],
 "metadata": {
  "kernelspec": {
   "display_name": "Python 3",
   "language": "python",
   "name": "python3"
  },
  "language_info": {
   "codemirror_mode": {
    "name": "ipython",
    "version": 3
   },
   "file_extension": ".py",
   "mimetype": "text/x-python",
   "name": "python",
   "nbconvert_exporter": "python",
   "pygments_lexer": "ipython3",
   "version": "3.7.4"
  }
 },
 "nbformat": 4,
 "nbformat_minor": 2
}
